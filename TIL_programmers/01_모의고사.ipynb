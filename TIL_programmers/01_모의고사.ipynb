{
 "cells": [
  {
   "cell_type": "markdown",
   "metadata": {},
   "source": [
    "[문제](https://programmers.co.kr/learn/courses/30/lessons/42840)"
   ]
  },
  {
   "cell_type": "code",
   "execution_count": null,
   "metadata": {},
   "outputs": [],
   "source": [
    "def solution(answers) :\n",
    "    first = [1, 2, 3, 4, 5] # 5\n",
    "    second = [2, 1, 2, 3, 2, 4, 2, 5] # 8\n",
    "    third = [3, 3, 1, 1, 2, 2, 4, 4, 5, 5] # 10\n",
    "\n",
    "    len_1 = len(first)\n",
    "    len_2 = len(second)\n",
    "    len_3 = len(third)\n",
    "    len_a = len(answers)\n",
    "\n",
    "    first = first * (len_a // len_1 + 1)\n",
    "    second = second * (len_a // len_2 + 1)\n",
    "    third = third * (len_a // len_3 + 1)\n",
    "\n",
    "    correct_dict = {'1':0, '2':0, '3':0}\n",
    "    for idx in range(len_a) :\n",
    "        correct = answers[idx]\n",
    "        if first[idx] == correct :\n",
    "            correct_dict['1'] += 1\n",
    "        if second[idx] == correct :\n",
    "            correct_dict['2'] += 1\n",
    "        if third[idx] == correct :\n",
    "            correct_dict['3'] += 1\n",
    "\n",
    "    max_val = max(correct_dict.values())\n",
    "    answer = [int(i) for i,j in correct_dict.items() if j==max_val]\n",
    "\n",
    "    return answer"
   ]
  },
  {
   "cell_type": "code",
   "execution_count": null,
   "metadata": {},
   "outputs": [],
   "source": [
    "# 다른 풀이\n",
    "def solution(answers) :\n",
    "    first = [1, 2, 3, 4, 5] # 5\n",
    "    second = [2, 1, 2, 3, 2, 4, 2, 5] # 8\n",
    "    third = [3, 3, 1, 1, 2, 2, 4, 4, 5, 5] # 10\n",
    "\n",
    "    len_1 = len(first)\n",
    "    len_2 = len(second)\n",
    "    len_3 = len(third)\n",
    "    \n",
    "    answer_list = [0, 0, 0]\n",
    "    for idx, answer in enumerate(answers):\n",
    "        if first[idx%len_1] == answer:\n",
    "            answer_list[0] += 1\n",
    "        if second[idx%len_2] == answer:\n",
    "            answer_list[1] += 1\n",
    "        if third[idx%len_3] == answer:\n",
    "            answer_list[2] += 1\n",
    "           \n",
    "    result = []\n",
    "    for idx, score in enumerate(answer_list):\n",
    "        if score == max(answer_list):\n",
    "            result.append(idx+1)\n",
    "\n",
    "    return result"
   ]
  }
 ],
 "metadata": {
  "kernelspec": {
   "display_name": "Python 3",
   "language": "python",
   "name": "python3"
  },
  "language_info": {
   "codemirror_mode": {
    "name": "ipython",
    "version": 3
   },
   "file_extension": ".py",
   "mimetype": "text/x-python",
   "name": "python",
   "nbconvert_exporter": "python",
   "pygments_lexer": "ipython3",
   "version": "3.8.7"
  },
  "toc": {
   "base_numbering": 1,
   "nav_menu": {},
   "number_sections": true,
   "sideBar": true,
   "skip_h1_title": false,
   "title_cell": "Table of Contents",
   "title_sidebar": "Contents",
   "toc_cell": false,
   "toc_position": {},
   "toc_section_display": true,
   "toc_window_display": false
  }
 },
 "nbformat": 4,
 "nbformat_minor": 4
}
