{
 "cells": [
  {
   "cell_type": "markdown",
   "metadata": {},
   "source": [
    "[문제](https://programmers.co.kr/learn/courses/30/lessons/12899)"
   ]
  },
  {
   "cell_type": "code",
   "execution_count": 5,
   "metadata": {
    "ExecuteTime": {
     "end_time": "2021-02-17T13:14:30.762168Z",
     "start_time": "2021-02-17T13:14:30.740550Z"
    }
   },
   "outputs": [
    {
     "data": {
      "text/plain": [
       "2"
      ]
     },
     "execution_count": 5,
     "metadata": {},
     "output_type": "execute_result"
    }
   ],
   "source": [
    "4 >> 1"
   ]
  },
  {
   "cell_type": "code",
   "execution_count": 6,
   "metadata": {
    "ExecuteTime": {
     "end_time": "2021-02-17T13:17:10.688806Z",
     "start_time": "2021-02-17T13:17:10.660872Z"
    }
   },
   "outputs": [
    {
     "data": {
      "text/plain": [
       "29524"
      ]
     },
     "execution_count": 6,
     "metadata": {},
     "output_type": "execute_result"
    }
   ],
   "source": [
    "sum([3**i for i in range(10)])"
   ]
  },
  {
   "cell_type": "code",
   "execution_count": 8,
   "metadata": {
    "ExecuteTime": {
     "end_time": "2021-02-17T13:17:44.534088Z",
     "start_time": "2021-02-17T13:17:44.521920Z"
    }
   },
   "outputs": [
    {
     "data": {
      "text/plain": [
       "29524"
      ]
     },
     "execution_count": 8,
     "metadata": {},
     "output_type": "execute_result"
    }
   ],
   "source": [
    "(3**10 - 1) // 2"
   ]
  },
  {
   "cell_type": "markdown",
   "metadata": {},
   "source": [
    "1  1  \n",
    "2  2  \n",
    "3  4  \n",
    "4  11  \n",
    "5  12  \n",
    "6  14  \n",
    "7  21  \n",
    "8  22  \n",
    "9  24  \n",
    "10 41  \n",
    "11 42  \n",
    "12 44  \n",
    "13 111  \n",
    "14 112  "
   ]
  },
  {
   "cell_type": "code",
   "execution_count": 17,
   "metadata": {
    "ExecuteTime": {
     "end_time": "2021-02-17T13:34:19.852093Z",
     "start_time": "2021-02-17T13:34:19.844276Z"
    }
   },
   "outputs": [
    {
     "name": "stdout",
     "output_type": "stream",
     "text": [
      "2\n"
     ]
    }
   ],
   "source": [
    "def sum_3exp(n):\n",
    "    return (3**n - 3) // 2\n",
    "    \n",
    "    \n",
    "n = 10 # 41\n",
    "i = 0\n",
    "while True:\n",
    "    if sum_3exp(i) < n:\n",
    "        i += 1\n",
    "    else :\n",
    "        idx = i - 1\n",
    "        break\n",
    "\n",
    "print(idx)"
   ]
  },
  {
   "cell_type": "code",
   "execution_count": 18,
   "metadata": {
    "ExecuteTime": {
     "end_time": "2021-02-17T13:34:20.817741Z",
     "start_time": "2021-02-17T13:34:20.811119Z"
    }
   },
   "outputs": [
    {
     "data": {
      "text/plain": [
       "7"
      ]
     },
     "execution_count": 18,
     "metadata": {},
     "output_type": "execute_result"
    }
   ],
   "source": [
    "n - sum_3exp(idx)"
   ]
  },
  {
   "cell_type": "code",
   "execution_count": 23,
   "metadata": {
    "ExecuteTime": {
     "end_time": "2021-02-17T13:39:26.423562Z",
     "start_time": "2021-02-17T13:39:26.413446Z"
    }
   },
   "outputs": [
    {
     "data": {
      "text/plain": [
       "3"
      ]
     },
     "execution_count": 23,
     "metadata": {},
     "output_type": "execute_result"
    }
   ],
   "source": [
    "sum_3exp(idx) - sum_3exp(idx-1)"
   ]
  },
  {
   "cell_type": "code",
   "execution_count": 25,
   "metadata": {
    "ExecuteTime": {
     "end_time": "2021-02-17T13:41:33.530132Z",
     "start_time": "2021-02-17T13:41:33.521611Z"
    }
   },
   "outputs": [
    {
     "data": {
      "text/plain": [
       "3"
      ]
     },
     "execution_count": 25,
     "metadata": {},
     "output_type": "execute_result"
    }
   ],
   "source": [
    "3 ** (idx-1) #  sum_3exp(idx) - sum_3exp(idx-1)"
   ]
  },
  {
   "cell_type": "code",
   "execution_count": 28,
   "metadata": {
    "ExecuteTime": {
     "end_time": "2021-02-17T13:42:03.343727Z",
     "start_time": "2021-02-17T13:42:03.334278Z"
    }
   },
   "outputs": [
    {
     "data": {
      "text/plain": [
       "2"
      ]
     },
     "execution_count": 28,
     "metadata": {},
     "output_type": "execute_result"
    }
   ],
   "source": [
    "(n - sum_3exp(idx)) // (3 ** (idx-1))"
   ]
  },
  {
   "cell_type": "code",
   "execution_count": 36,
   "metadata": {
    "ExecuteTime": {
     "end_time": "2021-02-17T13:44:04.743260Z",
     "start_time": "2021-02-17T13:44:04.734602Z"
    }
   },
   "outputs": [
    {
     "data": {
      "text/plain": [
       "1"
      ]
     },
     "execution_count": 36,
     "metadata": {},
     "output_type": "execute_result"
    }
   ],
   "source": [
    "(n - sum_3exp(idx)) % (3 ** (idx-1))"
   ]
  },
  {
   "cell_type": "code",
   "execution_count": 35,
   "metadata": {
    "ExecuteTime": {
     "end_time": "2021-02-17T13:43:46.200818Z",
     "start_time": "2021-02-17T13:43:46.191471Z"
    }
   },
   "outputs": [
    {
     "data": {
      "text/plain": [
       "4"
      ]
     },
     "execution_count": 35,
     "metadata": {},
     "output_type": "execute_result"
    }
   ],
   "source": [
    "2 ** ((n - sum_3exp(idx)) // (3 ** (idx-1)))"
   ]
  },
  {
   "cell_type": "code",
   "execution_count": 39,
   "metadata": {
    "ExecuteTime": {
     "end_time": "2021-02-17T13:47:33.935697Z",
     "start_time": "2021-02-17T13:47:33.927303Z"
    }
   },
   "outputs": [],
   "source": [
    "def sum_3exp(n):\n",
    "    return (3**n - 3) // 2\n",
    "\n",
    "def solution(n):\n",
    "    if n <= 2:\n",
    "        return str(2 ** (n-1))\n",
    "    else:\n",
    "        return str(2 ** ((n - sum_3exp(idx)) // (3 ** (idx-1)))) + solution((n - sum_3exp(idx)) % (3 ** (idx-1)))"
   ]
  },
  {
   "cell_type": "code",
   "execution_count": 46,
   "metadata": {
    "ExecuteTime": {
     "end_time": "2021-02-17T13:48:43.718878Z",
     "start_time": "2021-02-17T13:48:43.709282Z"
    }
   },
   "outputs": [
    {
     "data": {
      "text/plain": [
       "'10.5'"
      ]
     },
     "execution_count": 46,
     "metadata": {},
     "output_type": "execute_result"
    }
   ],
   "source": [
    "solution(3)"
   ]
  }
 ],
 "metadata": {
  "kernelspec": {
   "display_name": "Python 3",
   "language": "python",
   "name": "python3"
  },
  "language_info": {
   "codemirror_mode": {
    "name": "ipython",
    "version": 3
   },
   "file_extension": ".py",
   "mimetype": "text/x-python",
   "name": "python",
   "nbconvert_exporter": "python",
   "pygments_lexer": "ipython3",
   "version": "3.8.7"
  },
  "toc": {
   "base_numbering": 1,
   "nav_menu": {},
   "number_sections": true,
   "sideBar": true,
   "skip_h1_title": false,
   "title_cell": "Table of Contents",
   "title_sidebar": "Contents",
   "toc_cell": false,
   "toc_position": {},
   "toc_section_display": true,
   "toc_window_display": false
  }
 },
 "nbformat": 4,
 "nbformat_minor": 4
}
