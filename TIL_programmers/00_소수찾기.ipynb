{
 "cells": [
  {
   "cell_type": "markdown",
   "metadata": {},
   "source": [
    "[소수찾기](https://programmers.co.kr/learn/courses/30/lessons/12921)"
   ]
  },
  {
   "cell_type": "code",
   "execution_count": 1,
   "metadata": {
    "ExecuteTime": {
     "end_time": "2021-02-03T13:15:37.210508Z",
     "start_time": "2021-02-03T13:15:37.177380Z"
    }
   },
   "outputs": [],
   "source": [
    "def solution(n):\n",
    "    answer = 0\n",
    "    for num in range(2, n+1):\n",
    "        # 모든 수에 대해 확인하지 않고 제곱근까지만 확인\n",
    "        for i in range(2, int(num**(1/2)) + 1):\n",
    "            if num % i == 0:\n",
    "                break\n",
    "        else:\n",
    "            answer += 1\n",
    "        \n",
    "    return answer"
   ]
  },
  {
   "cell_type": "code",
   "execution_count": null,
   "metadata": {},
   "outputs": [],
   "source": [
    "# 다른 풀이\n",
    "def solution(n):\n",
    "    num=set(range(2,n+1))\n",
    "\n",
    "    for i in range(2,n+1):\n",
    "        if i in num:\n",
    "            num-=set(range(2*i,n+1,i))\n",
    "    return len(num)"
   ]
  }
 ],
 "metadata": {
  "kernelspec": {
   "display_name": "Python 3",
   "language": "python",
   "name": "python3"
  },
  "language_info": {
   "codemirror_mode": {
    "name": "ipython",
    "version": 3
   },
   "file_extension": ".py",
   "mimetype": "text/x-python",
   "name": "python",
   "nbconvert_exporter": "python",
   "pygments_lexer": "ipython3",
   "version": "3.8.7"
  },
  "toc": {
   "base_numbering": 1,
   "nav_menu": {},
   "number_sections": true,
   "sideBar": true,
   "skip_h1_title": false,
   "title_cell": "Table of Contents",
   "title_sidebar": "Contents",
   "toc_cell": false,
   "toc_position": {},
   "toc_section_display": true,
   "toc_window_display": false
  }
 },
 "nbformat": 4,
 "nbformat_minor": 4
}
