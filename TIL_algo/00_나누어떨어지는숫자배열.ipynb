{
 "cells": [
  {
   "cell_type": "markdown",
   "metadata": {},
   "source": [
    "[문제](https://programmers.co.kr/learn/courses/30/lessons/12910)"
   ]
  },
  {
   "cell_type": "code",
   "execution_count": 1,
   "metadata": {
    "ExecuteTime": {
     "end_time": "2021-02-03T13:19:14.971649Z",
     "start_time": "2021-02-03T13:19:14.953820Z"
    }
   },
   "outputs": [],
   "source": [
    "def solution(arr, divisor):\n",
    "    # 미리 정렬\n",
    "    arr.sort()\n",
    "    answer = []\n",
    "    for num in arr:\n",
    "        # 나머지가 0, 즉 약수면 append\n",
    "        if not num % divisor:\n",
    "            answer.append(num)\n",
    "    if not answer:\n",
    "        answer.append(-1)\n",
    "    \n",
    "    return answer"
   ]
  },
  {
   "cell_type": "code",
   "execution_count": null,
   "metadata": {},
   "outputs": [],
   "source": [
    "# 다른 풀이\n",
    "def solution(arr, divisor):\n",
    "    return sorted([i for i in arr if i % divisor== 0]) or [-1]"
   ]
  }
 ],
 "metadata": {
  "kernelspec": {
   "display_name": "Python 3",
   "language": "python",
   "name": "python3"
  },
  "language_info": {
   "codemirror_mode": {
    "name": "ipython",
    "version": 3
   },
   "file_extension": ".py",
   "mimetype": "text/x-python",
   "name": "python",
   "nbconvert_exporter": "python",
   "pygments_lexer": "ipython3",
   "version": "3.8.7"
  },
  "toc": {
   "base_numbering": 1,
   "nav_menu": {},
   "number_sections": true,
   "sideBar": true,
   "skip_h1_title": false,
   "title_cell": "Table of Contents",
   "title_sidebar": "Contents",
   "toc_cell": false,
   "toc_position": {},
   "toc_section_display": true,
   "toc_window_display": false
  }
 },
 "nbformat": 4,
 "nbformat_minor": 4
}
