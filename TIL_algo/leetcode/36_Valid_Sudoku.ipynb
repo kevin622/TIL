{
 "cells": [
  {
   "cell_type": "markdown",
   "metadata": {},
   "source": [
    "[문제](https://leetcode.com/problems/valid-sudoku/)"
   ]
  },
  {
   "cell_type": "code",
   "execution_count": 9,
   "metadata": {
    "ExecuteTime": {
     "end_time": "2021-02-19T05:00:33.046642Z",
     "start_time": "2021-02-19T05:00:33.011782Z"
    }
   },
   "outputs": [],
   "source": [
    "from typing import List\n",
    "class Solution:\n",
    "    def isValidSudoku(self, board: List[List[str]]) -> bool:\n",
    "        # 행마다 확인\n",
    "        for row_idx in range(9):\n",
    "            for i in range(1, 10):\n",
    "                if board[row_idx].count(str(i)) >= 2:\n",
    "                    return False\n",
    "        # 열마다 확인\n",
    "        for col_idx in range(9):\n",
    "            for i in range(1, 10):\n",
    "                if [board[row][col_idx] for row in range(9)].count(str(i)) >= 2:\n",
    "                    return False\n",
    "        # 3x3 칸들 확인\n",
    "        for coord in [(x, y) for x in [0, 3, 6] for y in [0, 3, 6]]:\n",
    "            box = []\n",
    "            for i in range(3):\n",
    "                for j in range(3):\n",
    "                    box.append(board[coord[0] + i][coord[1] + j])\n",
    "            for i in range(1, 10):\n",
    "                if box.count(str(i)) >= 2:\n",
    "                    return False\n",
    "        return True"
   ]
  },
  {
   "cell_type": "code",
   "execution_count": null,
   "metadata": {},
   "outputs": [],
   "source": []
  }
 ],
 "metadata": {
  "kernelspec": {
   "display_name": "Python 3",
   "language": "python",
   "name": "python3"
  },
  "language_info": {
   "codemirror_mode": {
    "name": "ipython",
    "version": 3
   },
   "file_extension": ".py",
   "mimetype": "text/x-python",
   "name": "python",
   "nbconvert_exporter": "python",
   "pygments_lexer": "ipython3",
   "version": "3.8.7"
  },
  "toc": {
   "base_numbering": 1,
   "nav_menu": {},
   "number_sections": true,
   "sideBar": true,
   "skip_h1_title": false,
   "title_cell": "Table of Contents",
   "title_sidebar": "Contents",
   "toc_cell": false,
   "toc_position": {},
   "toc_section_display": true,
   "toc_window_display": false
  }
 },
 "nbformat": 4,
 "nbformat_minor": 4
}
