{
 "cells": [
  {
   "cell_type": "markdown",
   "metadata": {},
   "source": [
    "[문제](https://www.acmicpc.net/problem/2606)"
   ]
  },
  {
   "cell_type": "markdown",
   "metadata": {},
   "source": [
    "7\n",
    "\n",
    "6  \n",
    "\n",
    "1 2  \n",
    "2 3  \n",
    "1 5  \n",
    "5 2  \n",
    "5 6  \n",
    "4 7  "
   ]
  },
  {
   "cell_type": "code",
   "execution_count": 1,
   "metadata": {
    "ExecuteTime": {
     "end_time": "2021-03-01T13:23:20.876018Z",
     "start_time": "2021-03-01T13:23:20.865023Z"
    }
   },
   "outputs": [],
   "source": [
    "N = 7\n",
    "E = 6"
   ]
  },
  {
   "cell_type": "code",
   "execution_count": 6,
   "metadata": {
    "ExecuteTime": {
     "end_time": "2021-03-01T13:33:03.919743Z",
     "start_time": "2021-03-01T13:32:46.923327Z"
    }
   },
   "outputs": [
    {
     "name": "stdout",
     "output_type": "stream",
     "text": [
      "1 2\n",
      "2 3\n",
      "1 5\n",
      "5 2\n",
      "5 6\n",
      "4 7\n"
     ]
    },
    {
     "data": {
      "text/plain": [
       "5"
      ]
     },
     "execution_count": 6,
     "metadata": {},
     "output_type": "execute_result"
    }
   ],
   "source": [
    "connections = [[] for _ in range(N)]\n",
    "for _ in range(E):\n",
    "    v1, v2 = map(int, input().split())\n",
    "    v1 -= 1\n",
    "    v2 -= 1\n",
    "    connections[v1].append(v2)\n",
    "    connections[v2].append(v1)\n",
    "\n",
    "# DFS\n",
    "visited = []\n",
    "stack = [0]\n",
    "while stack:\n",
    "    v = stack.pop()\n",
    "    if v not in visited:\n",
    "        visited.append(v)\n",
    "        for w in connections[v]:\n",
    "            stack.append(w)\n",
    "len(visited) "
   ]
  },
  {
   "cell_type": "code",
   "execution_count": 8,
   "metadata": {
    "ExecuteTime": {
     "end_time": "2021-03-01T13:35:21.093641Z",
     "start_time": "2021-03-01T13:35:02.179601Z"
    }
   },
   "outputs": [
    {
     "name": "stdout",
     "output_type": "stream",
     "text": [
      "7\n",
      "6\n",
      "1 2\n",
      "2 3\n",
      "1 5\n",
      "5 2\n",
      "5 6\n",
      "4 7\n",
      "4\n"
     ]
    }
   ],
   "source": [
    "N = int(input())\n",
    "E = int(input())\n",
    "connections = [[] for _ in range(N)]\n",
    "for _ in range(E):\n",
    "    v1, v2 = map(int, input().split())\n",
    "    v1 -= 1\n",
    "    v2 -= 1\n",
    "    connections[v1].append(v2)\n",
    "    connections[v2].append(v1)\n",
    "\n",
    "# DFS\n",
    "visited = []\n",
    "stack = [0]\n",
    "while stack:\n",
    "    v = stack.pop()\n",
    "    if v not in visited:\n",
    "        visited.append(v)\n",
    "        for w in connections[v]:\n",
    "            stack.append(w)\n",
    "print(len(visited) - 1)"
   ]
  }
 ],
 "metadata": {
  "kernelspec": {
   "display_name": "Python 3",
   "language": "python",
   "name": "python3"
  },
  "language_info": {
   "codemirror_mode": {
    "name": "ipython",
    "version": 3
   },
   "file_extension": ".py",
   "mimetype": "text/x-python",
   "name": "python",
   "nbconvert_exporter": "python",
   "pygments_lexer": "ipython3",
   "version": "3.8.7"
  },
  "toc": {
   "base_numbering": 1,
   "nav_menu": {},
   "number_sections": true,
   "sideBar": true,
   "skip_h1_title": false,
   "title_cell": "Table of Contents",
   "title_sidebar": "Contents",
   "toc_cell": false,
   "toc_position": {},
   "toc_section_display": true,
   "toc_window_display": false
  }
 },
 "nbformat": 4,
 "nbformat_minor": 4
}
