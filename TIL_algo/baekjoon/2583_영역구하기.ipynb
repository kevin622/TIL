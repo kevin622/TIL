{
 "cells": [
  {
   "cell_type": "markdown",
   "metadata": {
    "ExecuteTime": {
     "end_time": "2021-02-24T04:47:08.294166Z",
     "start_time": "2021-02-24T04:47:08.098411Z"
    }
   },
   "source": [
    "[문제](https://www.acmicpc.net/problem/2583)"
   ]
  },
  {
   "cell_type": "code",
   "execution_count": 5,
   "metadata": {
    "ExecuteTime": {
     "end_time": "2021-02-26T00:21:45.318356Z",
     "start_time": "2021-02-26T00:21:45.291638Z"
    }
   },
   "outputs": [],
   "source": [
    "import sys\n",
    "sys.stdin.readline()"
   ]
  },
  {
   "cell_type": "markdown",
   "metadata": {},
   "source": [
    "5 7 3  \n",
    "0 2 4 4  \n",
    "1 1 2 5  \n",
    "4 0 6 2"
   ]
  },
  {
   "cell_type": "code",
   "execution_count": 14,
   "metadata": {
    "ExecuteTime": {
     "end_time": "2021-02-26T00:38:45.037904Z",
     "start_time": "2021-02-26T00:38:30.884932Z"
    }
   },
   "outputs": [
    {
     "name": "stdout",
     "output_type": "stream",
     "text": [
      "5 7 3\n",
      "0 2 4 4\n",
      "1 1 2 5\n",
      "4 0 6 2\n"
     ]
    },
    {
     "data": {
      "text/plain": [
       "[[1, 1, 1, 1, 0, 0, 1],\n",
       " [1, 0, 1, 1, 0, 0, 1],\n",
       " [0, 0, 0, 0, 1, 1, 1],\n",
       " [0, 0, 0, 0, 1, 1, 1],\n",
       " [1, 0, 1, 1, 1, 1, 1]]"
      ]
     },
     "execution_count": 14,
     "metadata": {},
     "output_type": "execute_result"
    }
   ],
   "source": [
    "M, N, K = map(int, input().split())\n",
    "matrix = [[1] * N for _ in range(M)]\n",
    "for _ in range(K):\n",
    "    x1, y1, x2, y2 = map(int, input().split())\n",
    "    for x in range(x1, x2):\n",
    "        for y in range(y1, y2):\n",
    "            matrix[y][x] = 0\n",
    "matrix"
   ]
  },
  {
   "cell_type": "code",
   "execution_count": 44,
   "metadata": {
    "ExecuteTime": {
     "end_time": "2021-02-26T01:06:00.735478Z",
     "start_time": "2021-02-26T01:06:00.665800Z"
    }
   },
   "outputs": [
    {
     "data": {
      "text/plain": [
       "[[1, 1, 1, 1, 0, 0, 1],\n",
       " [1, 0, 1, 1, 0, 0, 1],\n",
       " [0, 0, 0, 0, 1, 1, 1],\n",
       " [0, 0, 0, 0, 1, 1, 1],\n",
       " [1, 0, 1, 1, 1, 1, 1]]"
      ]
     },
     "execution_count": 44,
     "metadata": {},
     "output_type": "execute_result"
    }
   ],
   "source": [
    "matrix"
   ]
  },
  {
   "cell_type": "code",
   "execution_count": 46,
   "metadata": {
    "ExecuteTime": {
     "end_time": "2021-02-26T01:07:20.158517Z",
     "start_time": "2021-02-26T01:07:20.125233Z"
    }
   },
   "outputs": [],
   "source": [
    "dx = [0, 1, 0, -1]\n",
    "dy = [1, 0, -1, 0]\n",
    "connections = {}\n",
    "for r in range(M):\n",
    "    for c in range(N):\n",
    "        if matrix[r][c]:\n",
    "            connections[(r, c)] = [(r, c)]\n",
    "            for i in range(4):\n",
    "                if 0 <= r + dy[i] < M and 0 <= c + dx[i] < N:\n",
    "                    if matrix[r + dy[i]][c + dx[i]]:\n",
    "                        connections[(r, c)].append((r + dy[i], c + dx[i]))"
   ]
  },
  {
   "cell_type": "code",
   "execution_count": 47,
   "metadata": {
    "ExecuteTime": {
     "end_time": "2021-02-26T01:07:21.470767Z",
     "start_time": "2021-02-26T01:07:21.431036Z"
    }
   },
   "outputs": [
    {
     "data": {
      "text/plain": [
       "{(0, 0): [(0, 0), (1, 0), (0, 1)],\n",
       " (0, 1): [(0, 1), (0, 2), (0, 0)],\n",
       " (0, 2): [(0, 2), (1, 2), (0, 3), (0, 1)],\n",
       " (0, 3): [(0, 3), (1, 3), (0, 2)],\n",
       " (0, 6): [(0, 6), (1, 6)],\n",
       " (1, 0): [(1, 0), (0, 0)],\n",
       " (1, 2): [(1, 2), (1, 3), (0, 2)],\n",
       " (1, 3): [(1, 3), (0, 3), (1, 2)],\n",
       " (1, 6): [(1, 6), (2, 6), (0, 6)],\n",
       " (2, 4): [(2, 4), (3, 4), (2, 5)],\n",
       " (2, 5): [(2, 5), (3, 5), (2, 6), (2, 4)],\n",
       " (2, 6): [(2, 6), (3, 6), (1, 6), (2, 5)],\n",
       " (3, 4): [(3, 4), (4, 4), (3, 5), (2, 4)],\n",
       " (3, 5): [(3, 5), (4, 5), (3, 6), (2, 5), (3, 4)],\n",
       " (3, 6): [(3, 6), (4, 6), (2, 6), (3, 5)],\n",
       " (4, 0): [(4, 0)],\n",
       " (4, 2): [(4, 2), (4, 3)],\n",
       " (4, 3): [(4, 3), (4, 4), (4, 2)],\n",
       " (4, 4): [(4, 4), (4, 5), (3, 4), (4, 3)],\n",
       " (4, 5): [(4, 5), (4, 6), (3, 5), (4, 4)],\n",
       " (4, 6): [(4, 6), (3, 6), (4, 5)]}"
      ]
     },
     "execution_count": 47,
     "metadata": {},
     "output_type": "execute_result"
    }
   ],
   "source": [
    "connections"
   ]
  },
  {
   "cell_type": "code",
   "execution_count": 48,
   "metadata": {
    "ExecuteTime": {
     "end_time": "2021-02-26T01:07:27.146032Z",
     "start_time": "2021-02-26T01:07:27.101931Z"
    }
   },
   "outputs": [
    {
     "name": "stdout",
     "output_type": "stream",
     "text": [
      "[(4, 0)]\n"
     ]
    }
   ],
   "source": [
    "# DFS\n",
    "visited = []\n",
    "stack = [(4,0)]\n",
    "while stack:\n",
    "    v = stack.pop()\n",
    "    if v not in visited:\n",
    "        visited.append(v)\n",
    "        for w in connections[v]:\n",
    "            stack.append(w)\n",
    "print(visited)"
   ]
  },
  {
   "cell_type": "code",
   "execution_count": 52,
   "metadata": {
    "ExecuteTime": {
     "end_time": "2021-02-26T01:08:40.968712Z",
     "start_time": "2021-02-26T01:08:40.899612Z"
    }
   },
   "outputs": [
    {
     "name": "stdout",
     "output_type": "stream",
     "text": [
      "1 7 13\n"
     ]
    }
   ],
   "source": [
    "def DFS(start, connections):\n",
    "    visited = []\n",
    "    stack = [start]\n",
    "    while stack:\n",
    "        v = stack.pop()\n",
    "        if v not in visited:\n",
    "            visited.append(v)\n",
    "            for w in connections[v]:\n",
    "                stack.append(w)\n",
    "    return visited\n",
    "\n",
    "visited_all = []\n",
    "answer = []\n",
    "for r in range(M):\n",
    "    for c in range(N):\n",
    "        if matrix[r][c] and (r, c) not in visited_all:\n",
    "            visits = DFS((r, c), connections)\n",
    "            answer.append(len(visits))\n",
    "            visited_all.extend(visits)\n",
    "answer.sort() \n",
    "print(len(answer))\n",
    "print(*answer)"
   ]
  },
  {
   "cell_type": "code",
   "execution_count": 56,
   "metadata": {
    "ExecuteTime": {
     "end_time": "2021-02-26T01:16:48.183166Z",
     "start_time": "2021-02-26T01:16:37.056835Z"
    }
   },
   "outputs": [
    {
     "name": "stdout",
     "output_type": "stream",
     "text": [
      "5 7 3\n",
      "0 2 4 4\n",
      "1 1 2 5\n",
      "4 0 6 2\n",
      "3\n",
      "1 7 13\n"
     ]
    }
   ],
   "source": [
    "# 답\n",
    "# import sys\n",
    "# input = sys.stdin.readline\n",
    "\n",
    "M, N, K = map(int, input().split())\n",
    "matrix = [[1] * N for _ in range(M)]\n",
    "for _ in range(K):\n",
    "    x1, y1, x2, y2 = map(int, input().split())\n",
    "    for x in range(x1, x2):\n",
    "        for y in range(y1, y2):\n",
    "            matrix[y][x] = 0\n",
    "            \n",
    "dx = [0, 1, 0, -1]\n",
    "dy = [1, 0, -1, 0]\n",
    "connections = {}\n",
    "for r in range(M):\n",
    "    for c in range(N):\n",
    "        if matrix[r][c]:\n",
    "            connections[(r, c)] = [(r, c)]\n",
    "            for i in range(4):\n",
    "                if 0 <= r + dy[i] < M and 0 <= c + dx[i] < N:\n",
    "                    if matrix[r + dy[i]][c + dx[i]]:\n",
    "                        connections[(r, c)].append((r + dy[i], c + dx[i]))\n",
    "\n",
    "def DFS(start, connections):\n",
    "    visited = []\n",
    "    stack = [start]\n",
    "    while stack:\n",
    "        v = stack.pop()\n",
    "        if v not in visited:\n",
    "            visited.append(v)\n",
    "            for w in connections[v]:\n",
    "                stack.append(w)\n",
    "    return visited\n",
    "\n",
    "visited_all = []\n",
    "answer = []\n",
    "for r in range(M):\n",
    "    for c in range(N):\n",
    "        if matrix[r][c] and (r, c) not in visited_all:\n",
    "            visits = DFS((r, c), connections)\n",
    "            answer.append(len(visits))\n",
    "            visited_all.extend(visits)\n",
    "answer.sort() \n",
    "print(len(answer))\n",
    "print(*answer)"
   ]
  },
  {
   "cell_type": "markdown",
   "metadata": {},
   "source": [
    "5 7 3  \n",
    "0 2 4 4  \n",
    "1 1 2 5  \n",
    "4 0 6 2"
   ]
  },
  {
   "cell_type": "code",
   "execution_count": null,
   "metadata": {},
   "outputs": [],
   "source": []
  }
 ],
 "metadata": {
  "kernelspec": {
   "display_name": "Python 3",
   "language": "python",
   "name": "python3"
  },
  "language_info": {
   "codemirror_mode": {
    "name": "ipython",
    "version": 3
   },
   "file_extension": ".py",
   "mimetype": "text/x-python",
   "name": "python",
   "nbconvert_exporter": "python",
   "pygments_lexer": "ipython3",
   "version": "3.8.7"
  },
  "toc": {
   "base_numbering": 1,
   "nav_menu": {},
   "number_sections": true,
   "sideBar": true,
   "skip_h1_title": false,
   "title_cell": "Table of Contents",
   "title_sidebar": "Contents",
   "toc_cell": false,
   "toc_position": {},
   "toc_section_display": true,
   "toc_window_display": false
  }
 },
 "nbformat": 4,
 "nbformat_minor": 4
}
