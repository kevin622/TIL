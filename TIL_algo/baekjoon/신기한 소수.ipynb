{
 "cells": [
  {
   "cell_type": "markdown",
   "metadata": {},
   "source": [
    "[문제](https://www.acmicpc.net/problem/2023)"
   ]
  },
  {
   "cell_type": "code",
   "execution_count": 4,
   "metadata": {
    "ExecuteTime": {
     "end_time": "2021-03-01T12:44:58.748347Z",
     "start_time": "2021-03-01T12:44:58.744007Z"
    }
   },
   "outputs": [],
   "source": [
    "from queue import deque"
   ]
  },
  {
   "cell_type": "code",
   "execution_count": 19,
   "metadata": {
    "ExecuteTime": {
     "end_time": "2021-03-01T13:12:10.545334Z",
     "start_time": "2021-03-01T13:12:10.534346Z"
    }
   },
   "outputs": [
    {
     "data": {
      "text/plain": [
       "False"
      ]
     },
     "execution_count": 19,
     "metadata": {},
     "output_type": "execute_result"
    }
   ],
   "source": [
    "def is_prime(number):\n",
    "    if number < 2:\n",
    "        return False\n",
    "    elif number <= 3:\n",
    "        return True\n",
    "    else:\n",
    "        for i in range(2, int(number ** (1/2)) + 1):\n",
    "            if number % i == 0:\n",
    "                return False\n",
    "        else:\n",
    "            return True\n",
    "is_prime(100)"
   ]
  },
  {
   "cell_type": "code",
   "execution_count": 20,
   "metadata": {
    "ExecuteTime": {
     "end_time": "2021-03-01T13:13:45.718542Z",
     "start_time": "2021-03-01T13:13:45.685056Z"
    }
   },
   "outputs": [
    {
     "data": {
      "text/plain": [
       "deque([23, 29, 31, 37, 53, 59, 71, 73, 79])"
      ]
     },
     "execution_count": 20,
     "metadata": {},
     "output_type": "execute_result"
    }
   ],
   "source": [
    "numbers = deque([2, 3, 5, 7])\n",
    "\n",
    "def is_prime(number):\n",
    "    if number < 2:\n",
    "        return False\n",
    "    elif number <= 3:\n",
    "        return True\n",
    "    else:\n",
    "        for i in range(2, int(number ** (1/2)) + 1):\n",
    "            if number % i == 0:\n",
    "                return False\n",
    "        else:\n",
    "            return True\n",
    "            \n",
    "\n",
    "for _ in range(len(numbers)):\n",
    "    new_num = numbers.popleft()\n",
    "    for number in range(1, 10, 2):\n",
    "        if is_prime(new_num * 10 + number):\n",
    "            numbers.append(new_num * 10 + number)\n",
    "numbers            "
   ]
  },
  {
   "cell_type": "code",
   "execution_count": 28,
   "metadata": {
    "ExecuteTime": {
     "end_time": "2021-03-01T13:19:21.126344Z",
     "start_time": "2021-03-01T13:19:19.807435Z"
    }
   },
   "outputs": [
    {
     "name": "stdout",
     "output_type": "stream",
     "text": [
      "3\n",
      "233\n",
      "239\n",
      "293\n",
      "311\n",
      "313\n",
      "317\n",
      "373\n",
      "379\n",
      "593\n",
      "599\n",
      "719\n",
      "733\n",
      "739\n",
      "797\n"
     ]
    }
   ],
   "source": [
    "from queue import deque\n",
    "n = int(input())\n",
    "numbers = deque([2, 3, 5, 7])\n",
    "def is_prime(number):\n",
    "    if number < 2:\n",
    "        return False\n",
    "    elif number <= 3:\n",
    "        return True\n",
    "    else:\n",
    "        for i in range(2, int(number ** (1/2)) + 1):\n",
    "            if number % i == 0:\n",
    "                return False\n",
    "        else:\n",
    "            return True\n",
    "        \n",
    "if n == 1:\n",
    "    for number in numbers:\n",
    "        print(number)\n",
    "else:\n",
    "    while n > 1:\n",
    "        for _ in range(len(numbers)):\n",
    "            new_num = numbers.popleft()\n",
    "            for number in range(1, 10, 2):\n",
    "                if is_prime(new_num * 10 + number):\n",
    "                    numbers.append(new_num * 10 + number)\n",
    "        n -=  1\n",
    "    for number in numbers:\n",
    "        print(number)"
   ]
  }
 ],
 "metadata": {
  "kernelspec": {
   "display_name": "Python 3",
   "language": "python",
   "name": "python3"
  },
  "language_info": {
   "codemirror_mode": {
    "name": "ipython",
    "version": 3
   },
   "file_extension": ".py",
   "mimetype": "text/x-python",
   "name": "python",
   "nbconvert_exporter": "python",
   "pygments_lexer": "ipython3",
   "version": "3.8.7"
  },
  "toc": {
   "base_numbering": 1,
   "nav_menu": {},
   "number_sections": true,
   "sideBar": true,
   "skip_h1_title": false,
   "title_cell": "Table of Contents",
   "title_sidebar": "Contents",
   "toc_cell": false,
   "toc_position": {},
   "toc_section_display": true,
   "toc_window_display": false
  }
 },
 "nbformat": 4,
 "nbformat_minor": 4
}
