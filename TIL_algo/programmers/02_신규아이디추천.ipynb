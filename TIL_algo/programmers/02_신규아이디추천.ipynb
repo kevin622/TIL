{
 "cells": [
  {
   "cell_type": "markdown",
   "metadata": {},
   "source": [
    "[문제](https://programmers.co.kr/learn/courses/30/lessons/72410)"
   ]
  },
  {
   "cell_type": "code",
   "execution_count": null,
   "metadata": {},
   "outputs": [],
   "source": [
    "def solution(new_id):\n",
    "    new_id = new_id.lower()\n",
    "    for char in '~!@#$%^&*()=+[{]}:?,<>/':\n",
    "        new_id = new_id.replace(char, '')\n",
    "    while '..' in new_id:\n",
    "        new_id = new_id.replace('..', '.')\n",
    "    while new_id.startswith('.'):\n",
    "        new_id = new_id[1:]\n",
    "    while new_id.endswith('.'):\n",
    "        new_id = new_id[:-1]\n",
    "    if not new_id:\n",
    "        new_id = 'a'\n",
    "    if len(new_id) >= 16:\n",
    "        new_id = new_id[:15]\n",
    "    while new_id.startswith('.'):\n",
    "        new_id = new_id[1:]\n",
    "    while new_id.endswith('.'):\n",
    "        new_id = new_id[:-1]\n",
    "    while len(new_id) <= 2:\n",
    "        new_id = new_id + new_id[-1]\n",
    "    answer = new_id\n",
    "    return answer"
   ]
  }
 ],
 "metadata": {
  "kernelspec": {
   "display_name": "Python 3",
   "language": "python",
   "name": "python3"
  },
  "language_info": {
   "codemirror_mode": {
    "name": "ipython",
    "version": 3
   },
   "file_extension": ".py",
   "mimetype": "text/x-python",
   "name": "python",
   "nbconvert_exporter": "python",
   "pygments_lexer": "ipython3",
   "version": "3.8.7"
  },
  "toc": {
   "base_numbering": 1,
   "nav_menu": {},
   "number_sections": true,
   "sideBar": true,
   "skip_h1_title": false,
   "title_cell": "Table of Contents",
   "title_sidebar": "Contents",
   "toc_cell": false,
   "toc_position": {},
   "toc_section_display": true,
   "toc_window_display": false
  }
 },
 "nbformat": 4,
 "nbformat_minor": 4
}
