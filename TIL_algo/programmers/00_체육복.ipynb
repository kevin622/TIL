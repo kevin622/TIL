{
 "cells": [
  {
   "cell_type": "markdown",
   "metadata": {},
   "source": [
    "[문제](https://programmers.co.kr/learn/courses/30/lessons/42862)"
   ]
  },
  {
   "cell_type": "code",
   "execution_count": 1,
   "metadata": {
    "ExecuteTime": {
     "end_time": "2021-02-03T13:26:50.578138Z",
     "start_time": "2021-02-03T13:26:50.527659Z"
    }
   },
   "outputs": [],
   "source": [
    "def solution(n, lost, reserve) :\n",
    "    # 여벌 없이 잃어버린 사람\n",
    "    real_lost = set(lost) - set(reserve)\n",
    "    real_lost_list = list(real_lost)\n",
    "    # 잃어버리지 않고 여벌 있는 사람\n",
    "    real_reserve = set(reserve) - set(lost)\n",
    "    \n",
    "    for l in real_lost_list :\n",
    "        # 체육복을 빌릴 수 있는 경우 set에서 삭제\n",
    "        if l+1 in real_reserve :\n",
    "            real_lost -= {l}\n",
    "            real_reserve -= {l+1}\n",
    "        elif l-1 in real_reserve :\n",
    "            real_lost -= {l}\n",
    "            real_reserve -= {l-1}\n",
    "    \n",
    "    answer = n - len(real_lost)\n",
    "    return answer"
   ]
  },
  {
   "cell_type": "code",
   "execution_count": null,
   "metadata": {},
   "outputs": [],
   "source": []
  }
 ],
 "metadata": {
  "kernelspec": {
   "display_name": "Python 3",
   "language": "python",
   "name": "python3"
  },
  "language_info": {
   "codemirror_mode": {
    "name": "ipython",
    "version": 3
   },
   "file_extension": ".py",
   "mimetype": "text/x-python",
   "name": "python",
   "nbconvert_exporter": "python",
   "pygments_lexer": "ipython3",
   "version": "3.8.7"
  },
  "toc": {
   "base_numbering": 1,
   "nav_menu": {},
   "number_sections": true,
   "sideBar": true,
   "skip_h1_title": false,
   "title_cell": "Table of Contents",
   "title_sidebar": "Contents",
   "toc_cell": false,
   "toc_position": {},
   "toc_section_display": true,
   "toc_window_display": false
  }
 },
 "nbformat": 4,
 "nbformat_minor": 4
}
