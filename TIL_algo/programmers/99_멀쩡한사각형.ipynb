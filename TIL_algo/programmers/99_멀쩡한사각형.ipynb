{
 "cells": [
  {
   "cell_type": "markdown",
   "metadata": {},
   "source": [
    "[문제](https://programmers.co.kr/learn/courses/30/lessons/62048)"
   ]
  },
  {
   "cell_type": "code",
   "execution_count": 9,
   "metadata": {
    "ExecuteTime": {
     "end_time": "2021-02-14T15:03:33.492296Z",
     "start_time": "2021-02-14T15:03:33.487852Z"
    }
   },
   "outputs": [],
   "source": [
    "w = 8\n",
    "h = 12\n",
    "# 80"
   ]
  },
  {
   "cell_type": "code",
   "execution_count": 10,
   "metadata": {
    "ExecuteTime": {
     "end_time": "2021-02-14T15:03:33.962253Z",
     "start_time": "2021-02-14T15:03:33.951895Z"
    }
   },
   "outputs": [
    {
     "data": {
      "text/plain": [
       "12.0"
      ]
     },
     "execution_count": 10,
     "metadata": {},
     "output_type": "execute_result"
    }
   ],
   "source": [
    "# y = -12/8 x + 12\n",
    "linear = lambda x : -h/w * x + h\n",
    "linear(0)"
   ]
  },
  {
   "cell_type": "code",
   "execution_count": 11,
   "metadata": {
    "ExecuteTime": {
     "end_time": "2021-02-14T15:03:34.737682Z",
     "start_time": "2021-02-14T15:03:34.729219Z"
    }
   },
   "outputs": [
    {
     "name": "stdout",
     "output_type": "stream",
     "text": [
      "80\n"
     ]
    }
   ],
   "source": [
    "answer = 0\n",
    "for x in range(1, w + 1):\n",
    "    answer += int(linear(x))\n",
    "answer *= 2\n",
    "print(answer)"
   ]
  },
  {
   "cell_type": "code",
   "execution_count": null,
   "metadata": {},
   "outputs": [],
   "source": [
    "def solution(w, h):\n",
    "    if w < h:\n",
    "        linear = lambda x : -h*x/w + h\n",
    "        answer = 0\n",
    "        for x in range(1, w + 1):\n",
    "            answer += int(linear(x))\n",
    "    else:\n",
    "        linear = lambda x : -w*x/h * x + w\n",
    "        answer = 0\n",
    "        for y in range(1, h + 1):\n",
    "            answer += int(linear(y))\n",
    "    answer *= 2\n",
    "    return answer"
   ]
  },
  {
   "cell_type": "markdown",
   "metadata": {},
   "source": [
    "위 방법은 <span style=\"color:red\">시간초과</span> 뜬다!"
   ]
  },
  {
   "cell_type": "code",
   "execution_count": 38,
   "metadata": {
    "ExecuteTime": {
     "end_time": "2021-02-14T15:30:44.264723Z",
     "start_time": "2021-02-14T15:30:44.259654Z"
    }
   },
   "outputs": [],
   "source": [
    "from math import floor, ceil"
   ]
  },
  {
   "cell_type": "code",
   "execution_count": 42,
   "metadata": {
    "ExecuteTime": {
     "end_time": "2021-02-14T15:31:00.051895Z",
     "start_time": "2021-02-14T15:31:00.043262Z"
    }
   },
   "outputs": [
    {
     "data": {
      "text/plain": [
       "1"
      ]
     },
     "execution_count": 42,
     "metadata": {},
     "output_type": "execute_result"
    }
   ],
   "source": [
    "floor(1.0)"
   ]
  },
  {
   "cell_type": "code",
   "execution_count": 43,
   "metadata": {
    "ExecuteTime": {
     "end_time": "2021-02-14T15:33:07.025584Z",
     "start_time": "2021-02-14T15:33:07.016262Z"
    }
   },
   "outputs": [
    {
     "name": "stdout",
     "output_type": "stream",
     "text": [
      "80\n"
     ]
    }
   ],
   "source": [
    "from math import floor, ceil\n",
    "answer = w * h\n",
    "if w < h:\n",
    "    for x in range(w):\n",
    "        answer -= ceil(-h*x/w + h) - floor(-h*(x+1)/w + h)\n",
    "elif w > h:\n",
    "    for x in range(h):\n",
    "        answer -= ceil(-w*x/h + w) - floor(-w*(x+1)/h + w)\n",
    "else:\n",
    "    answer -= w\n",
    "print(answer)"
   ]
  },
  {
   "cell_type": "code",
   "execution_count": null,
   "metadata": {},
   "outputs": [],
   "source": [
    "from math import floor, ceil\n",
    "def solution(w, h):\n",
    "    answer = w * h\n",
    "    if w < h:\n",
    "        for x in range(w):\n",
    "            answer -= ceil(-h*x/w + h) - floor(-h*(x+1)/w + h)\n",
    "    elif w > h:\n",
    "        for x in range(h):\n",
    "            answer -= ceil(-w*x/h + w) - floor(-w*(x+1)/h + w)\n",
    "    else:\n",
    "        answer -= w\n",
    "\n",
    "    return answer"
   ]
  },
  {
   "cell_type": "code",
   "execution_count": 48,
   "metadata": {
    "ExecuteTime": {
     "end_time": "2021-02-14T15:42:35.579615Z",
     "start_time": "2021-02-14T15:42:35.576035Z"
    }
   },
   "outputs": [],
   "source": [
    "# 다른 풀이\n",
    "def gcd(num1, num2):\n",
    "    if num1 == 0:\n",
    "        return num2\n",
    "    else:\n",
    "        return gcd(num2%num1, num1)"
   ]
  },
  {
   "cell_type": "code",
   "execution_count": 51,
   "metadata": {
    "ExecuteTime": {
     "end_time": "2021-02-14T15:43:10.107546Z",
     "start_time": "2021-02-14T15:43:10.098930Z"
    }
   },
   "outputs": [
    {
     "data": {
      "text/plain": [
       "12"
      ]
     },
     "execution_count": 51,
     "metadata": {},
     "output_type": "execute_result"
    }
   ],
   "source": [
    "def solution(w, h):\n",
    "    answer = w*h - w - h + gcd(w, h)\n",
    "    return answer"
   ]
  }
 ],
 "metadata": {
  "kernelspec": {
   "display_name": "Python 3",
   "language": "python",
   "name": "python3"
  },
  "language_info": {
   "codemirror_mode": {
    "name": "ipython",
    "version": 3
   },
   "file_extension": ".py",
   "mimetype": "text/x-python",
   "name": "python",
   "nbconvert_exporter": "python",
   "pygments_lexer": "ipython3",
   "version": "3.8.7"
  },
  "toc": {
   "base_numbering": 1,
   "nav_menu": {},
   "number_sections": true,
   "sideBar": true,
   "skip_h1_title": false,
   "title_cell": "Table of Contents",
   "title_sidebar": "Contents",
   "toc_cell": false,
   "toc_position": {},
   "toc_section_display": true,
   "toc_window_display": false
  }
 },
 "nbformat": 4,
 "nbformat_minor": 4
}
