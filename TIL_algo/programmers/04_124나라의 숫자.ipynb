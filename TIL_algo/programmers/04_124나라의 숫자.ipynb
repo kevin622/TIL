{
 "cells": [
  {
   "cell_type": "markdown",
   "metadata": {},
   "source": [
    "[문제](https://programmers.co.kr/learn/courses/30/lessons/12899)"
   ]
  },
  {
   "cell_type": "code",
   "execution_count": null,
   "metadata": {},
   "outputs": [],
   "source": []
  },
  {
   "cell_type": "markdown",
   "metadata": {
    "ExecuteTime": {
     "end_time": "2021-02-17T14:18:28.848014Z",
     "start_time": "2021-02-17T14:18:28.841539Z"
    }
   },
   "source": [
    "1  1  \n",
    "2  2  \n",
    "3  4  \n",
    "4  11  \n",
    "5  12  \n",
    "6  14  \n",
    "7  21  \n",
    "8  22  \n",
    "9  24  \n",
    "10 41  \n",
    "11 42  \n",
    "12 44  \n",
    "13 111  \n",
    "14 112  "
   ]
  },
  {
   "cell_type": "code",
   "execution_count": 295,
   "metadata": {
    "ExecuteTime": {
     "end_time": "2021-02-17T15:16:36.910482Z",
     "start_time": "2021-02-17T15:16:36.902428Z"
    }
   },
   "outputs": [],
   "source": [
    "# 효율성 테스트 통과 못한 코드.\n",
    "def sum_3exp(n):\n",
    "    if n <= 0:\n",
    "        return 0\n",
    "    return (3**(n+1) - 3) // 2\n",
    "\n",
    "def solution(n): \n",
    "    if n == 0:\n",
    "        return str(4)\n",
    "    \n",
    "    elif n <= 3:\n",
    "        return str(2**(n-1))\n",
    "    \n",
    "    else:  # n > 3\n",
    "        i = 0\n",
    "        while True:\n",
    "            if sum_3exp(i) < n:\n",
    "                i += 1\n",
    "            else :\n",
    "                break\n",
    "\n",
    "        return_val = 1 << (n - sum_3exp(i-1) - 1) // 3 ** (i-1)\n",
    "        recur_val = (n - sum_3exp(i-1) - 1) % 3**(i-1) + sum_3exp(i-2) + 1\n",
    "        return str(return_val) + solution(recur_val)"
   ]
  },
  {
   "cell_type": "code",
   "execution_count": 296,
   "metadata": {
    "ExecuteTime": {
     "end_time": "2021-02-17T15:16:37.506978Z",
     "start_time": "2021-02-17T15:16:37.498999Z"
    }
   },
   "outputs": [
    {
     "data": {
      "text/plain": [
       "'11'"
      ]
     },
     "execution_count": 296,
     "metadata": {},
     "output_type": "execute_result"
    }
   ],
   "source": [
    "solution(4)"
   ]
  },
  {
   "cell_type": "code",
   "execution_count": 299,
   "metadata": {
    "ExecuteTime": {
     "end_time": "2021-02-17T15:22:20.535562Z",
     "start_time": "2021-02-17T15:22:20.511859Z"
    }
   },
   "outputs": [
    {
     "name": "stdout",
     "output_type": "stream",
     "text": [
      "1 1\n",
      "2 2\n",
      "3 4\n",
      "4 11\n",
      "5 12\n",
      "6 14\n",
      "7 21\n",
      "8 22\n",
      "9 24\n"
     ]
    }
   ],
   "source": [
    "for i in range(1, 10):\n",
    "    print(i, solution(i))"
   ]
  },
  {
   "cell_type": "code",
   "execution_count": 300,
   "metadata": {
    "ExecuteTime": {
     "end_time": "2021-02-17T15:25:16.811500Z",
     "start_time": "2021-02-17T15:25:16.803809Z"
    }
   },
   "outputs": [
    {
     "data": {
      "text/plain": [
       "0"
      ]
     },
     "execution_count": 300,
     "metadata": {},
     "output_type": "execute_result"
    }
   ],
   "source": [
    "sum_3exp(0)"
   ]
  },
  {
   "cell_type": "code",
   "execution_count": 310,
   "metadata": {
    "ExecuteTime": {
     "end_time": "2021-02-17T15:34:42.278355Z",
     "start_time": "2021-02-17T15:34:42.270600Z"
    }
   },
   "outputs": [],
   "source": [
    "def sum_3exp(n):\n",
    "    if n <= 0:\n",
    "        return 0\n",
    "    return (3**(n+1) - 3) // 2\n",
    "\n",
    "def solution(n):\n",
    "    i = 0\n",
    "    while True:\n",
    "        if sum_3exp(i) < n:\n",
    "            i += 1\n",
    "        else :\n",
    "            break\n",
    "            \n",
    "    answer = ''\n",
    "    while i > 0:\n",
    "        answer += str(1 << (n - sum_3exp(i-1) - 1) // 3 ** (i-1))\n",
    "        n = (n - sum_3exp(i-1) - 1) % 3**(i-1) + sum_3exp(i-2) + 1\n",
    "        i -= 1\n",
    "    return answer"
   ]
  },
  {
   "cell_type": "code",
   "execution_count": 313,
   "metadata": {
    "ExecuteTime": {
     "end_time": "2021-02-17T15:35:00.766400Z",
     "start_time": "2021-02-17T15:35:00.754590Z"
    }
   },
   "outputs": [
    {
     "name": "stdout",
     "output_type": "stream",
     "text": [
      "1\n",
      "2\n",
      "4\n",
      "11\n",
      "12\n",
      "14\n",
      "21\n",
      "22\n",
      "24\n",
      "41\n",
      "42\n",
      "44\n",
      "111\n",
      "112\n",
      "114\n",
      "121\n",
      "122\n",
      "124\n",
      "141\n",
      "142\n",
      "144\n",
      "211\n",
      "212\n",
      "214\n",
      "221\n",
      "222\n",
      "224\n",
      "241\n",
      "242\n",
      "244\n",
      "411\n",
      "412\n",
      "414\n",
      "421\n",
      "422\n",
      "424\n",
      "441\n",
      "442\n",
      "444\n",
      "1111\n"
     ]
    }
   ],
   "source": [
    "for i in range(1, 41):\n",
    "    print(solution(i))"
   ]
  },
  {
   "cell_type": "code",
   "execution_count": null,
   "metadata": {},
   "outputs": [],
   "source": []
  },
  {
   "cell_type": "code",
   "execution_count": 314,
   "metadata": {
    "ExecuteTime": {
     "end_time": "2021-02-17T15:44:52.274313Z",
     "start_time": "2021-02-17T15:44:52.247108Z"
    }
   },
   "outputs": [],
   "source": [
    "# 다른 사람의 풀이\n",
    "def solution(n):\n",
    "    numbers = ['1', '2', '4']\n",
    "    answer = ''\n",
    "    while n:\n",
    "        n -= 1\n",
    "        answer = numbers[n%3] + answer\n",
    "        n //= 3\n",
    "    return answer"
   ]
  },
  {
   "cell_type": "code",
   "execution_count": 316,
   "metadata": {
    "ExecuteTime": {
     "end_time": "2021-02-17T15:45:12.259293Z",
     "start_time": "2021-02-17T15:45:12.245307Z"
    }
   },
   "outputs": [
    {
     "name": "stdout",
     "output_type": "stream",
     "text": [
      "1 : 1\n",
      "2 : 2\n",
      "3 : 4\n",
      "4 : 11\n",
      "5 : 12\n",
      "6 : 14\n",
      "7 : 21\n",
      "8 : 22\n",
      "9 : 24\n",
      "10 : 41\n",
      "11 : 42\n",
      "12 : 44\n",
      "13 : 111\n",
      "14 : 112\n",
      "15 : 114\n",
      "16 : 121\n",
      "17 : 122\n",
      "18 : 124\n",
      "19 : 141\n",
      "20 : 142\n",
      "21 : 144\n",
      "22 : 211\n",
      "23 : 212\n",
      "24 : 214\n",
      "25 : 221\n",
      "26 : 222\n",
      "27 : 224\n",
      "28 : 241\n",
      "29 : 242\n",
      "30 : 244\n",
      "31 : 411\n",
      "32 : 412\n",
      "33 : 414\n",
      "34 : 421\n",
      "35 : 422\n",
      "36 : 424\n",
      "37 : 441\n",
      "38 : 442\n",
      "39 : 444\n",
      "40 : 1111\n"
     ]
    }
   ],
   "source": [
    "for i in range(1, 41):\n",
    "    print(i, ':', solution(i))"
   ]
  },
  {
   "cell_type": "code",
   "execution_count": null,
   "metadata": {},
   "outputs": [],
   "source": []
  }
 ],
 "metadata": {
  "kernelspec": {
   "display_name": "Python 3",
   "language": "python",
   "name": "python3"
  },
  "language_info": {
   "codemirror_mode": {
    "name": "ipython",
    "version": 3
   },
   "file_extension": ".py",
   "mimetype": "text/x-python",
   "name": "python",
   "nbconvert_exporter": "python",
   "pygments_lexer": "ipython3",
   "version": "3.8.7"
  },
  "toc": {
   "base_numbering": 1,
   "nav_menu": {},
   "number_sections": true,
   "sideBar": true,
   "skip_h1_title": false,
   "title_cell": "Table of Contents",
   "title_sidebar": "Contents",
   "toc_cell": false,
   "toc_position": {},
   "toc_section_display": true,
   "toc_window_display": false
  }
 },
 "nbformat": 4,
 "nbformat_minor": 4
}
