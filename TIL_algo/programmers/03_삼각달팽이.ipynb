{
 "cells": [
  {
   "cell_type": "markdown",
   "metadata": {},
   "source": [
    "[문제](https://programmers.co.kr/learn/courses/30/lessons/68645)"
   ]
  },
  {
   "cell_type": "code",
   "execution_count": 1,
   "metadata": {
    "ExecuteTime": {
     "end_time": "2021-02-11T08:16:46.373541Z",
     "start_time": "2021-02-11T08:16:46.247189Z"
    }
   },
   "outputs": [],
   "source": [
    "n = 2 # [1, 2, 3]\n",
    "n = 3 # [1, 2, 6, 3, 4, 5]\n",
    "n = 4 # [1,2,9,3,10,8,4,5,6,7]"
   ]
  },
  {
   "cell_type": "code",
   "execution_count": 81,
   "metadata": {
    "ExecuteTime": {
     "end_time": "2021-02-11T09:43:26.657329Z",
     "start_time": "2021-02-11T09:43:26.647563Z"
    }
   },
   "outputs": [
    {
     "data": {
      "text/plain": [
       "[[0], [0, 0], [0, 0, 0], [0, 0, 0, 0]]"
      ]
     },
     "execution_count": 81,
     "metadata": {},
     "output_type": "execute_result"
    }
   ],
   "source": [
    "n = 4\n",
    "answer = [[0]*i for i in range(1, n+1)]\n",
    "num = 0\n",
    "wave = 0\n",
    "answer"
   ]
  },
  {
   "cell_type": "code",
   "execution_count": 82,
   "metadata": {
    "ExecuteTime": {
     "end_time": "2021-02-11T09:43:27.116969Z",
     "start_time": "2021-02-11T09:43:27.107961Z"
    }
   },
   "outputs": [
    {
     "data": {
      "text/plain": [
       "[[1], [2, 0], [3, 0, 0], [4, 0, 0, 0]]"
      ]
     },
     "execution_count": 82,
     "metadata": {},
     "output_type": "execute_result"
    }
   ],
   "source": [
    "for i in range(n):\n",
    "    num += 1\n",
    "    answer[i+2*wave][wave] = num\n",
    "n -= 1\n",
    "answer"
   ]
  },
  {
   "cell_type": "code",
   "execution_count": 83,
   "metadata": {
    "ExecuteTime": {
     "end_time": "2021-02-11T09:43:27.797450Z",
     "start_time": "2021-02-11T09:43:27.788038Z"
    }
   },
   "outputs": [
    {
     "data": {
      "text/plain": [
       "[[1], [2, 0], [3, 0, 0], [4, 5, 6, 7]]"
      ]
     },
     "execution_count": 83,
     "metadata": {},
     "output_type": "execute_result"
    }
   ],
   "source": [
    "for i in range(n):\n",
    "    num += 1\n",
    "    answer[-wave-1][i+1] = num\n",
    "n -= 1\n",
    "answer"
   ]
  },
  {
   "cell_type": "code",
   "execution_count": 84,
   "metadata": {
    "ExecuteTime": {
     "end_time": "2021-02-11T09:43:30.886151Z",
     "start_time": "2021-02-11T09:43:30.876071Z"
    }
   },
   "outputs": [
    {
     "data": {
      "text/plain": [
       "[[1], [2, 9], [3, 0, 8], [4, 5, 6, 7]]"
      ]
     },
     "execution_count": 84,
     "metadata": {},
     "output_type": "execute_result"
    }
   ],
   "source": [
    "for i in range(n, wave, -1):\n",
    "    num += 1\n",
    "    answer[i][-wave-1] = num\n",
    "n -= 1\n",
    "wave += 1\n",
    "answer"
   ]
  },
  {
   "cell_type": "code",
   "execution_count": 14,
   "metadata": {
    "ExecuteTime": {
     "end_time": "2021-02-11T11:16:54.938477Z",
     "start_time": "2021-02-11T11:16:54.802349Z"
    }
   },
   "outputs": [
    {
     "name": "stdout",
     "output_type": "stream",
     "text": [
      "[[0], [0, 0], [0, 0, 0], [0, 0, 0, 0], [0, 0, 0, 0, 0]]\n",
      "1 [[1], [2, 0], [3, 0, 0], [4, 0, 0, 0], [5, 0, 0, 0, 0]]\n",
      "2 [[1], [2, 0], [3, 0, 0], [4, 0, 0, 0], [5, 6, 7, 8, 9]]\n",
      "3 [[1], [2, 12], [3, 0, 11], [4, 0, 0, 10], [5, 6, 7, 8, 9]]\n",
      "1 [[1], [2, 12], [3, 13, 11], [4, 14, 0, 10], [5, 6, 7, 8, 9]]\n",
      "2 [[1], [2, 12], [3, 13, 11], [4, 14, 15, 10], [5, 6, 7, 8, 9]]\n",
      "3 [[1], [2, 12], [3, 13, 11], [4, 14, 15, 10], [5, 6, 7, 8, 9]]\n",
      "final [1, 2, 12, 3, 13, 11, 4, 14, 15, 10, 5, 6, 7, 8, 9]\n"
     ]
    }
   ],
   "source": [
    "n = 5\n",
    "answer = [[0]*i for i in range(1, n+1)]    \n",
    "num = 0\n",
    "wave = 0\n",
    "print(answer)\n",
    "\n",
    "while n > 0 :\n",
    "    for i in range(n):\n",
    "        num += 1\n",
    "        answer[i+2*wave][wave] = num    \n",
    "    print(1, answer)\n",
    "    n -= 1\n",
    "    \n",
    "    for i in range(n):\n",
    "        num += 1\n",
    "        answer[-wave-1][i+wave+1] = num\n",
    "    print(2, answer)\n",
    "    n -= 1\n",
    "    \n",
    "    for i in range(len(answer)-2-wave, wave*2, -1):\n",
    "        num += 1\n",
    "        answer[i][-wave-1] = num\n",
    "    print(3, answer)\n",
    "    n -= 1\n",
    "    wave += 1\n",
    "answer = [x for y in answer for x in y]\n",
    "print('final', answer)"
   ]
  },
  {
   "cell_type": "markdown",
   "metadata": {},
   "source": [
    "## 답"
   ]
  },
  {
   "cell_type": "code",
   "execution_count": null,
   "metadata": {},
   "outputs": [],
   "source": [
    "def solution(n):\n",
    "    answer = [[0]*i for i in range(1, n+1)]    \n",
    "    num = 0\n",
    "    wave = 0\n",
    "\n",
    "    while n > 0 :\n",
    "        for i in range(n):\n",
    "            num += 1\n",
    "            answer[i+2*wave][wave] = num    \n",
    "        n -= 1\n",
    "\n",
    "        for i in range(n):\n",
    "            num += 1\n",
    "            answer[-wave-1][i+wave+1] = num\n",
    "        n -= 1\n",
    "\n",
    "        for i in range(len(answer)-2-wave, wave*2, -1):\n",
    "            num += 1\n",
    "            answer[i][-wave-1] = num\n",
    "        n -= 1\n",
    "        wave += 1\n",
    "    answer = [x for y in answer for x in y]\n",
    "    return answer"
   ]
  }
 ],
 "metadata": {
  "kernelspec": {
   "display_name": "Python 3",
   "language": "python",
   "name": "python3"
  },
  "language_info": {
   "codemirror_mode": {
    "name": "ipython",
    "version": 3
   },
   "file_extension": ".py",
   "mimetype": "text/x-python",
   "name": "python",
   "nbconvert_exporter": "python",
   "pygments_lexer": "ipython3",
   "version": "3.8.7"
  },
  "toc": {
   "base_numbering": 1,
   "nav_menu": {},
   "number_sections": true,
   "sideBar": true,
   "skip_h1_title": false,
   "title_cell": "Table of Contents",
   "title_sidebar": "Contents",
   "toc_cell": false,
   "toc_position": {},
   "toc_section_display": true,
   "toc_window_display": false
  }
 },
 "nbformat": 4,
 "nbformat_minor": 4
}
